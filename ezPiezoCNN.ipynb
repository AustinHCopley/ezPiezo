{
 "cells": [
  {
   "cell_type": "code",
   "execution_count": 1,
   "metadata": {},
   "outputs": [],
   "source": [
    "import torch\n",
    "import torch.nn as nn\n",
    "from torch.utils.data import DataLoader\n",
    "from sklearn.metrics import confusion_matrix, accuracy_score\n",
    "import seaborn as sns\n",
    "import matplotlib.pyplot as plt\n",
    "from torchvision import transforms\n",
    "from pzData import pzImg\n",
    "from ezPzModels import ezPzCNN"
   ]
  },
  {
   "cell_type": "code",
   "execution_count": 2,
   "metadata": {},
   "outputs": [
    {
     "name": "stdout",
     "output_type": "stream",
     "text": [
      "cuda\n"
     ]
    }
   ],
   "source": [
    "if torch.cuda.is_available():\n",
    "    device = torch.device('cuda:0')\n",
    "    print(\"cuda\")\n",
    "else:\n",
    "    device = torch.device('cpu')\n",
    "    print(\"CPU\")"
   ]
  },
  {
   "cell_type": "code",
   "execution_count": 10,
   "metadata": {},
   "outputs": [],
   "source": [
    "train_labels = \"./data/train_labels.csv\"\n",
    "test_labels = \"./data/test_labels.csv\"\n",
    "val_labels = \"./data/val_labels.csv\"\n",
    "train_dir = test_dir = val_dir = \"./data/raw/\"\n",
    "\n",
    "transform = transforms.Compose([\n",
    "    # transforms.Resize((480, 640)),\n",
    "    transforms.ToTensor(),\n",
    "    transforms.Normalize(mean=[0.5, 0.5, 0.5], std=[0.5, 0.5, 0.5])\n",
    "])\n",
    "\n",
    "train_dataset = pzImg(train_labels, train_dir, transform=transform)\n",
    "train_loader = DataLoader(train_dataset, batch_size=20, shuffle=True)\n",
    "\n",
    "test_dataset = pzImg(test_labels, test_dir, transform=transform)\n",
    "test_loader = DataLoader(test_dataset, batch_size=10)\n",
    "\n",
    "val_dataset = pzImg(val_labels, val_dir, transform=transform)\n",
    "val_loader = DataLoader(val_dataset, batch_size=10)"
   ]
  },
  {
   "cell_type": "code",
   "execution_count": 4,
   "metadata": {},
   "outputs": [],
   "source": [
    "# model parameters\n",
    "input_size = 480*640*3\n",
    "# for now, this is only a binary classification task\n",
    "num_classes = 2"
   ]
  },
  {
   "cell_type": "code",
   "execution_count": 11,
   "metadata": {},
   "outputs": [
    {
     "name": "stdout",
     "output_type": "stream",
     "text": [
      "Validation Accuracy: 41.18%\n",
      "Average Validation Loss: 1.5869\n",
      "Epoch [1/10], Loss: 4.92102\n",
      "Validation Accuracy: 58.82%\n",
      "Average Validation Loss: 0.8661\n",
      "Epoch [2/10], Loss: 0.95570\n",
      "Validation Accuracy: 47.06%\n",
      "Average Validation Loss: 0.6965\n",
      "Epoch [3/10], Loss: 0.72558\n",
      "Validation Accuracy: 41.18%\n",
      "Average Validation Loss: 0.8366\n",
      "Epoch [4/10], Loss: 0.73178\n",
      "Validation Accuracy: 58.82%\n",
      "Average Validation Loss: 1.2095\n",
      "Epoch [5/10], Loss: 0.64781\n",
      "Validation Accuracy: 41.18%\n",
      "Average Validation Loss: 1.2015\n",
      "Epoch [6/10], Loss: 0.85254\n",
      "Validation Accuracy: 52.94%\n",
      "Average Validation Loss: 0.6863\n",
      "Epoch [7/10], Loss: 0.71531\n",
      "Validation Accuracy: 44.12%\n",
      "Average Validation Loss: 0.7331\n",
      "Epoch [8/10], Loss: 0.63867\n",
      "Validation Accuracy: 55.88%\n",
      "Average Validation Loss: 0.6910\n",
      "Epoch [9/10], Loss: 0.66959\n",
      "Validation Accuracy: 58.82%\n",
      "Average Validation Loss: 0.9039\n",
      "Epoch [10/10], Loss: 0.60550\n"
     ]
    },
    {
     "data": {
      "image/png": "[encoded data removed]",
      "text/plain": [
       "<Figure size 640x480 with 1 Axes>"
      ]
     },
     "metadata": {},
     "output_type": "display_data"
    }
   ],
   "source": [
    "def train_cnn(num_classes, batch_size, learning_rate, optim, num_epochs=10):\n",
    "    \n",
    "    train_loader = DataLoader(train_dataset, batch_size=batch_size, shuffle=True)\n",
    "    val_loader = DataLoader(val_dataset, batch_size=batch_size)\n",
    "    \n",
    "    model = ezPzCNN(num_classes=num_classes).to(device)\n",
    "    criterion = nn.CrossEntropyLoss()\n",
    "    optimizer = optim(model.parameters(), lr=learning_rate)\n",
    "\n",
    "    train_losses = []\n",
    "    val_losses = []\n",
    "\n",
    "\n",
    "    for epoch in range(num_epochs):\n",
    "        model.train()\n",
    "        running_loss = 0.0\n",
    "\n",
    "        for i, (x, y) in enumerate(train_loader):\n",
    "            x = x.to(device=device, dtype=torch.float32)\n",
    "            y = y.to(device=device, dtype=torch.long)\n",
    "\n",
    "            scores = model(x)\n",
    "            loss = criterion(scores, y)\n",
    "            optimizer.zero_grad()\n",
    "            loss.backward()\n",
    "            optimizer.step()\n",
    "\n",
    "            running_loss += loss.item()\n",
    "            \n",
    "        train_losses.append(running_loss / len(train_loader))\n",
    "\n",
    "        model.eval()\n",
    "\n",
    "        predicted_y = []\n",
    "        true_y = []\n",
    "        val_loss = 0\n",
    "        with torch.no_grad():\n",
    "            for val_x, val_y in val_loader:\n",
    "                val_x = val_x.to(device=device, dtype=torch.float32)\n",
    "                val_y = val_y.to(device=device, dtype=torch.long)\n",
    "                val_scores = model(val_x)\n",
    "                _, preds = torch.max(val_scores, 1)\n",
    "                val_scores = model(val_x)\n",
    "                val_loss += criterion(val_scores, val_y).item()\n",
    "\n",
    "                predicted_y.extend(preds.cpu().numpy()) if device != torch.device('cpu') else predicted_y.extend(preds.numpy())\n",
    "                true_y.extend(val_y.cpu().numpy()) if device != torch.device('cpu') else true_y.extend(val_y.numpy())\n",
    "            \n",
    "            val_accuracy = accuracy_score(true_y, predicted_y)\n",
    "            average_val_loss = val_loss / len(val_loader)\n",
    "            val_losses.append(average_val_loss)\n",
    "\n",
    "        print(f\"Epoch [{epoch + 1}/{num_epochs}], Loss: {running_loss / len(train_loader):.5f}, Val Acc: {val_accuracy:.2%}\")\n",
    "\n",
    "    plt.plot(train_losses, label='Training Loss')\n",
    "    plt.plot(val_losses, label='Validation Loss')\n",
    "    plt.xlabel('Epoch')\n",
    "    plt.ylabel('Loss')\n",
    "    plt.legend()\n",
    "    plt.show()\n",
    "    return val_accuracy"
   ]
  },
  {
   "cell_type": "code",
   "execution_count": 33,
   "metadata": {},
   "outputs": [],
   "source": [
    "param_grid = {\n",
    "    'learning_rate': [0.0006, 0.001, 0.002],\n",
    "    'batch_size': [24, 16],\n",
    "    # 'dropout': [0.2, 0.4, 0.6, 0.8],\n",
    "    'optim': [torch.optim.Adam, torch.optim.Adagrad]\n",
    "}\n",
    "\n",
    "best_accuracy = 0.0\n",
    "best_params = {}\n",
    "\n",
    "for learning_rate in param_grid['learning_rate']:\n",
    "    for batch_size in param_grid['batch_size']:\n",
    "        for optim in param_grid['optim']:\n",
    "            accuracy = train_cnn(2, batch_size, learning_rate, optim)\n",
    "            print(f\"ACCURACY {batch_size}, {learning_rate}, {optim}:  {accuracy:.3%}\")\n",
    "            if accuracy > best_accuracy:\n",
    "                best_accuracy = accuracy\n",
    "                best_params = {'learning_rate': learning_rate, 'batch_size': batch_size, 'optim': optim}\n",
    "\n",
    "print(\"Best Parameters:\", best_params)\n",
    "print(\"Best Accuracy:\", best_accuracy)"
   ]
  },
  {
   "cell_type": "code",
   "execution_count": null,
   "metadata": {},
   "outputs": [],
   "source": [
    "train_loader = DataLoader(train_dataset, batch_size=best_params['batch_size'], shuffle=True)\n",
    "val_loader = DataLoader(val_dataset, batch_size=best_params['batch_size'])\n",
    "\n",
    "model = ezPzCNN(num_classes=2).to(device)\n",
    "criterion = nn.CrossEntropyLoss()\n",
    "optimizer = best_params['optim'](model.parameters(), lr=best_params['learning_rate'])\n",
    "\n",
    "train_losses = []\n",
    "val_losses = []\n",
    "num_epochs = 10\n",
    "\n",
    "for epoch in range(num_epochs):\n",
    "    model.train()\n",
    "    running_loss = 0.0\n",
    "\n",
    "    for i, (x, y) in enumerate(train_loader):\n",
    "        x = x.to(device=device, dtype=torch.float32)\n",
    "        y = y.to(device=device, dtype=torch.long)\n",
    "\n",
    "        scores = model(x)\n",
    "        loss = criterion(scores, y)\n",
    "        optimizer.zero_grad()\n",
    "        loss.backward()\n",
    "        optimizer.step()\n",
    "\n",
    "        running_loss += loss.item()\n",
    "        \n",
    "    train_losses.append(running_loss / len(train_loader))\n",
    "\n",
    "    model.eval()\n",
    "\n",
    "    predicted_y = []\n",
    "    true_y = []\n",
    "    val_loss = 0\n",
    "    with torch.no_grad():\n",
    "        for val_x, val_y in val_loader:\n",
    "            val_x = val_x.to(device=device, dtype=torch.float32)\n",
    "            val_y = val_y.to(device=device, dtype=torch.long)\n",
    "            val_scores = model(val_x)\n",
    "            _, preds = torch.max(val_scores, 1)\n",
    "            val_scores = model(val_x)\n",
    "            val_loss += criterion(val_scores, val_y).item()\n",
    "\n",
    "            predicted_y.extend(preds.cpu().numpy()) if device != torch.device('cpu') else predicted_y.extend(preds.numpy())\n",
    "            true_y.extend(val_y.cpu().numpy()) if device != torch.device('cpu') else true_y.extend(val_y.numpy())\n",
    "        \n",
    "        val_accuracy = accuracy_score(true_y, predicted_y)\n",
    "        average_val_loss = val_loss / len(val_loader)\n",
    "        val_losses.append(average_val_loss)\n",
    "\n",
    "    print(f\"Epoch [{epoch + 1}/{num_epochs}], Loss: {running_loss / len(train_loader):.5f}, Val Acc: {val_accuracy:.2%}\")\n",
    "\n",
    "plt.plot(train_losses, label='Training Loss')\n",
    "plt.plot(val_losses, label='Validation Loss')\n",
    "plt.xlabel('Epoch')\n",
    "plt.ylabel('Loss')\n",
    "plt.legend()\n",
    "plt.show()"
   ]
  },
  {
   "cell_type": "code",
   "execution_count": 12,
   "metadata": {},
   "outputs": [
    {
     "data": {
      "image/png": "[encoded data removed]",
      "text/plain": [
       "<Figure size 800x600 with 2 Axes>"
      ]
     },
     "metadata": {},
     "output_type": "display_data"
    }
   ],
   "source": [
    "confusion = confusion_matrix(true_y, predicted_y)\n",
    "\n",
    "plt.figure(figsize=(8, 6))\n",
    "sns.heatmap(confusion, annot=True, fmt=\"d\", cmap=\"Blues\")\n",
    "plt.xlabel(\"Predicted\")\n",
    "plt.ylabel(\"Actual\")\n",
    "plt.title(\"Confusion Matrix\")\n",
    "plt.show()"
   ]
  },
  {
   "cell_type": "code",
   "execution_count": null,
   "metadata": {},
   "outputs": [],
   "source": [
    "best_model = model"
   ]
  },
  {
   "cell_type": "code",
   "execution_count": 36,
   "metadata": {},
   "outputs": [],
   "source": [
    "torch.save(best_model, \"bin_cnn.pth\")"
   ]
  }
 ],
 "metadata": {
  "kernelspec": {
   "display_name": "Python 3",
   "language": "python",
   "name": "python3"
  },
  "language_info": {
   "codemirror_mode": {
    "name": "ipython",
    "version": 3
   },
   "file_extension": ".py",
   "mimetype": "text/x-python",
   "name": "python",
   "nbconvert_exporter": "python",
   "pygments_lexer": "ipython3",
   "version": "3.10.12"
  }
 },
 "nbformat": 4,
 "nbformat_minor": 2
}
