{
 "cells": [
  {
   "cell_type": "code",
   "execution_count": 1,
   "metadata": {},
   "outputs": [],
   "source": [
    "import torch\n",
    "import torch.nn as nn\n",
    "from torch.utils.data import DataLoader\n",
    "import numpy as np\n",
    "from sklearn.metrics import confusion_matrix, accuracy_score\n",
    "import seaborn as sns\n",
    "import matplotlib.pyplot as plt\n",
    "from scipy.signal import stft\n",
    "from pzData import pzNpz\n",
    "from ezPzModels import ezPzGRU"
   ]
  },
  {
   "cell_type": "code",
   "execution_count": 2,
   "metadata": {},
   "outputs": [
    {
     "name": "stdout",
     "output_type": "stream",
     "text": [
      "CPU\n"
     ]
    },
    {
     "name": "stderr",
     "output_type": "stream",
     "text": [
      "/home/austin/.local/lib/python3.10/site-packages/torch/cuda/__init__.py:107: UserWarning: CUDA initialization: CUDA unknown error - this may be due to an incorrectly set up environment, e.g. changing env variable CUDA_VISIBLE_DEVICES after program start. Setting the available devices to be zero. (Triggered internally at ../c10/cuda/CUDAFunctions.cpp:109.)\n",
      "  return torch._C._cuda_getDeviceCount() > 0\n"
     ]
    }
   ],
   "source": [
    "if torch.cuda.is_available():\n",
    "    device = torch.device('cuda')\n",
    "    print(\"cuda\")\n",
    "else:\n",
    "    device = torch.device('cpu')\n",
    "    print(\"CPU\")"
   ]
  },
  {
   "cell_type": "code",
   "execution_count": 3,
   "metadata": {},
   "outputs": [],
   "source": [
    "train_labels = \"./data/train_labels.csv\"\n",
    "val_labels = \"./data/val_labels.csv\"\n",
    "val_dir = test_dir = train_dir = \"./data/raw/\"\n",
    "\n",
    "CROP = 15000\n",
    "cut = lambda x: x[:CROP]\n",
    "\n",
    "def stfourier(x):\n",
    "    freq = len(x) // 3.0\n",
    "    f, t, Zxx = stft(x[:, :CROP], fs=freq, nperseg=100, noverlap=50)\n",
    "    return np.asarray([f, t, Zxx])\n",
    "\n",
    "def fourier(x):\n",
    "    t = x[0, 1000:CROP+1000]\n",
    "    d = np.fft.fft(x[1, 1000:CROP+1000])\n",
    "    return np.asarray([t, d])\n",
    "\n",
    "\n",
    "train_dataset = pzNpz(train_labels, train_dir, transform=fourier)\n",
    "\n",
    "val_dataset = pzNpz(val_labels, val_dir, transform=fourier)\n",
    "val_loader = DataLoader(val_dataset, batch_size=10)"
   ]
  },
  {
   "cell_type": "code",
   "execution_count": 4,
   "metadata": {},
   "outputs": [],
   "source": [
    "# model parameters\n",
    "input_size = CROP\n",
    "num_classes = 2"
   ]
  },
  {
   "cell_type": "code",
   "execution_count": 5,
   "metadata": {},
   "outputs": [],
   "source": [
    "def train_model(model, hidden_size, num_layers, learning_rate, batch_size, optim=torch.optim.Adam, num_epochs=10, vis=False):\n",
    "\n",
    "    train_loader = DataLoader(train_dataset, batch_size=batch_size)\n",
    "\n",
    "    model = model(input_size, hidden_size, num_layers, num_classes).to(device)\n",
    "    criterion = nn.CrossEntropyLoss()\n",
    "    optimizer = optim(model.parameters(), lr=learning_rate)\n",
    "\n",
    "    train_losses = []\n",
    "    val_losses = []\n",
    "\n",
    "\n",
    "    for epoch in range(num_epochs):\n",
    "        model.train()\n",
    "        running_loss = 0.0\n",
    "\n",
    "        for i, (x, y) in enumerate(train_loader):\n",
    "            x = x.to(device=device, dtype=torch.float32)\n",
    "            y = y.to(device=device, dtype=torch.long)\n",
    "\n",
    "            scores = model(x)\n",
    "            loss = criterion(scores, y)\n",
    "            optimizer.zero_grad()\n",
    "            loss.backward()\n",
    "            optimizer.step()\n",
    "\n",
    "            running_loss += loss.item()\n",
    "            \n",
    "        train_losses.append(running_loss / len(train_loader))\n",
    "\n",
    "        model.eval()\n",
    "\n",
    "        predicted_y = []\n",
    "        true_y = []\n",
    "        val_loss = 0\n",
    "        with torch.no_grad():\n",
    "            for val_x, val_y in val_loader:\n",
    "                val_x = val_x.to(device=device, dtype=torch.float32)\n",
    "                val_y = val_y.to(device=device, dtype=torch.long)\n",
    "                val_scores = model(val_x)\n",
    "                _, preds = torch.max(val_scores, 1)\n",
    "                val_scores = model(val_x)\n",
    "                val_loss += criterion(val_scores, val_y).item()\n",
    "\n",
    "                if device != torch.device('cpu'):\n",
    "                    predicted_y.extend(preds.cpu().numpy())\n",
    "                    true_y.extend(val_y.cpu().numpy())\n",
    "                else:\n",
    "                    predicted_y.extend(preds.numpy())\n",
    "                    true_y.extend(val_y.numpy())\n",
    "            \n",
    "            val_accuracy = accuracy_score(true_y, predicted_y)\n",
    "            average_val_loss = val_loss / len(val_loader)\n",
    "            val_losses.append(average_val_loss)\n",
    "\n",
    "        print(f\"Epoch [{epoch + 1}/{num_epochs}], Loss: {running_loss / len(train_loader):.5f}, Val Acc: {val_accuracy:.2%}\")\n",
    "\n",
    "    if vis:\n",
    "        plt.plot(train_losses, label='Training Loss')\n",
    "        plt.plot(val_losses, label='Validation Loss')\n",
    "        plt.xlabel('Epoch')\n",
    "        plt.ylabel('Loss')\n",
    "        plt.ylim((0, 1.5))\n",
    "        plt.legend()\n",
    "        plt.show()\n",
    "\n",
    "    del optim\n",
    "    torch.cuda.empty_cache()\n",
    "    \n",
    "    return model, val_accuracy"
   ]
  },
  {
   "cell_type": "code",
   "execution_count": 28,
   "metadata": {},
   "outputs": [
    {
     "name": "stdout",
     "output_type": "stream",
     "text": [
      "Epoch [1/6], Loss: 0.69392, Val Acc: 47.37%\n",
      "Epoch [2/6], Loss: 0.67920, Val Acc: 45.61%\n",
      "Epoch [3/6], Loss: 0.64511, Val Acc: 50.88%\n",
      "Epoch [4/6], Loss: 0.54851, Val Acc: 56.14%\n",
      "Epoch [5/6], Loss: 0.35405, Val Acc: 63.16%\n",
      "Epoch [6/6], Loss: 0.13580, Val Acc: 63.16%\n"
     ]
    },
    {
     "data": {
      "image/png": "[encoded data removed]",
      "text/plain": [
       "<Figure size 640x480 with 1 Axes>"
      ]
     },
     "metadata": {},
     "output_type": "display_data"
    },
    {
     "name": "stdout",
     "output_type": "stream",
     "text": [
      "0.631578947368421\n"
     ]
    }
   ],
   "source": [
    "model, accuracy = train_model(ezPzGRU, 50, 3, 0.001, 24, num_epochs=6, vis=True)\n",
    "print(accuracy)"
   ]
  },
  {
   "cell_type": "code",
   "execution_count": 29,
   "metadata": {},
   "outputs": [],
   "source": [
    "best_model = model"
   ]
  },
  {
   "cell_type": "code",
   "execution_count": 30,
   "metadata": {},
   "outputs": [],
   "source": [
    "torch.save(best_model, './saved_models/bin_gru.pth')"
   ]
  },
  {
   "cell_type": "code",
   "execution_count": 31,
   "metadata": {},
   "outputs": [
    {
     "name": "stdout",
     "output_type": "stream",
     "text": [
      "Validation Accuracy: 63.16%\n",
      "Average Validation Loss: 0.872\n"
     ]
    }
   ],
   "source": [
    "ezPiezo = ezPzGRU\n",
    "model = torch.load('./saved_models/bin_gru.pth')\n",
    "model.to(device).eval()\n",
    "criterion = nn.CrossEntropyLoss()\n",
    "\n",
    "predicted_y = []\n",
    "true_y = []\n",
    "val_loss = 0\n",
    "with torch.no_grad():\n",
    "    for val_x, val_y in val_loader:\n",
    "        val_x = val_x.to(device=device, dtype=torch.float32)\n",
    "        val_y = val_y.to(device=device, dtype=torch.long)\n",
    "        val_scores = model(val_x)\n",
    "        _, preds = torch.max(val_scores, 1)\n",
    "        val_scores = model(val_x)\n",
    "        val_loss += criterion(val_scores, val_y).item()\n",
    "\n",
    "        if device == torch.device('cuda'):\n",
    "            predicted_y.extend(preds.cpu().numpy())\n",
    "            true_y.extend(val_y.cpu().numpy())\n",
    "        else:\n",
    "            predicted_y.extend(preds.numpy())\n",
    "            true_y.extend(val_y.numpy())\n",
    "    \n",
    "    val_accuracy = accuracy_score(true_y, predicted_y)\n",
    "    print(f'Validation Accuracy: {val_accuracy:.2%}')\n",
    "\n",
    "    average_val_loss = val_loss / len(val_loader)\n",
    "    print(f'Average Validation Loss: {average_val_loss:.3f}')"
   ]
  },
  {
   "cell_type": "code",
   "execution_count": 32,
   "metadata": {},
   "outputs": [
    {
     "data": {
      "image/png": "[encoded data removed]",
      "text/plain": [
       "<Figure size 800x600 with 2 Axes>"
      ]
     },
     "metadata": {},
     "output_type": "display_data"
    }
   ],
   "source": [
    "confusion = confusion_matrix(true_y, predicted_y)\n",
    "\n",
    "plt.figure(figsize=(8, 6))\n",
    "sns.heatmap(confusion, annot=True, fmt=\"d\", cmap=\"Blues\")\n",
    "plt.xlabel(\"Predicted\")\n",
    "plt.ylabel(\"Actual\")\n",
    "plt.title(\"Confusion Matrix\")\n",
    "plt.show()"
   ]
  }
 ],
 "metadata": {
  "kernelspec": {
   "display_name": "Python 3",
   "language": "python",
   "name": "python3"
  },
  "language_info": {
   "codemirror_mode": {
    "name": "ipython",
    "version": 3
   },
   "file_extension": ".py",
   "mimetype": "text/x-python",
   "name": "python",
   "nbconvert_exporter": "python",
   "pygments_lexer": "ipython3",
   "version": "3.10.12"
  }
 },
 "nbformat": 4,
 "nbformat_minor": 2
}
