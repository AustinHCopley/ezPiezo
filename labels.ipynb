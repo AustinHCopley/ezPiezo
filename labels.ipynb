{
 "cells": [
  {
   "cell_type": "markdown",
   "metadata": {},
   "source": [
    "Imports"
   ]
  },
  {
   "cell_type": "code",
   "execution_count": 1,
   "metadata": {},
   "outputs": [],
   "source": [
    "import os\n",
    "import pandas as pd\n",
    "import shutil\n",
    "from sklearn.model_selection import train_test_split"
   ]
  },
  {
   "cell_type": "code",
   "execution_count": 2,
   "metadata": {},
   "outputs": [],
   "source": [
    "def create_labels(path):\n",
    "    files = []\n",
    "    for file in os.listdir(path):\n",
    "        if file.endswith(\".npz\"):\n",
    "            files.append(file[:-4])\n",
    "    return files"
   ]
  },
  {
   "cell_type": "markdown",
   "metadata": {},
   "source": [
    "## Binary classification:\n",
    "\n",
    "Create labels based on chord quality\n",
    "\n",
    "0: Major\n",
    "\n",
    "1: minor"
   ]
  },
  {
   "cell_type": "code",
   "execution_count": 13,
   "metadata": {},
   "outputs": [
    {
     "name": "stdout",
     "output_type": "stream",
     "text": [
      "['AM5', 'AM50', 'AM51', 'AM52', 'AM7', 'AM70', 'AM71', 'AM72', 'AM73', 'AM74', 'Am5', 'Am50', 'Am51', 'Am52', 'Am7', 'Am70', 'Am71', 'Am72', 'Am73', 'Am74', 'BM5', 'BM50', 'BM51', 'BM52', 'BM7', 'BM70', 'BM71', 'BM72', 'BM73', 'BM74', 'Bm5', 'Bm50', 'Bm51', 'Bm52', 'Bm7', 'Bm70', 'Bm71', 'Bm72', 'Bm73', 'Bm74', 'CM5', 'CM50', 'CM51', 'CM52', 'CM7', 'CM70', 'CM71', 'CM72', 'CM73', 'CM74', 'Cm5', 'Cm50', 'Cm51', 'Cm52', 'Cm7', 'Cm70', 'Cm71', 'Cm72', 'Cm73', 'Cm74', 'DM5', 'DM50', 'DM51', 'DM52', 'DM7', 'DM70', 'DM71', 'DM72', 'DM73', 'DM74', 'Dm5', 'Dm50', 'Dm51', 'Dm52', 'Dm7', 'Dm70', 'Dm71', 'Dm72', 'Dm73', 'Dm74', 'EM5', 'EM50', 'EM51', 'EM52', 'EM7', 'EM70', 'EM71', 'EM72', 'EM73', 'EM74', 'Em5', 'Em50', 'Em51', 'Em52', 'Em7', 'Em70', 'Em71', 'Em72', 'Em73', 'Em74', 'FM5', 'FM50', 'FM51', 'FM52', 'FM7', 'FM70', 'FM71', 'FM72', 'FM73', 'FM74', 'Fm5', 'Fm50', 'Fm51', 'Fm52', 'Fm7', 'Fm70', 'Fm71', 'Fm72', 'Fm73', 'Fm74', 'GM5', 'GM50', 'GM51', 'GM52', 'GM7', 'GM70', 'GM71', 'GM72', 'GM73', 'GM74', 'Gm5', 'Gm50', 'Gm51', 'Gm52', 'Gm7', 'Gm70', 'Gm71', 'Gm72', 'Gm73', 'Gm74', 'aM50', 'aM51', 'aM52', 'am50', 'am51', 'am52', 'bM50', 'bM51', 'bM52', 'bm50', 'bm51', 'bm52', 'dM50', 'dM51', 'dM52', 'dm50', 'dm51', 'dm52', 'eM50', 'eM51', 'eM52', 'em50', 'em51', 'em52', 'gM50', 'gM51', 'gM52', 'gm50', 'gm51', 'gm52']\n",
      "{'AM5': 0, 'AM50': 0, 'AM51': 0, 'AM52': 0, 'AM7': 0, 'AM70': 0, 'AM71': 0, 'AM72': 0, 'AM73': 0, 'AM74': 0, 'Am5': 1, 'Am50': 1, 'Am51': 1, 'Am52': 1, 'Am7': 1, 'Am70': 1, 'Am71': 1, 'Am72': 1, 'Am73': 1, 'Am74': 1, 'BM5': 0, 'BM50': 0, 'BM51': 0, 'BM52': 0, 'BM7': 0, 'BM70': 0, 'BM71': 0, 'BM72': 0, 'BM73': 0, 'BM74': 0, 'Bm5': 1, 'Bm50': 1, 'Bm51': 1, 'Bm52': 1, 'Bm7': 1, 'Bm70': 1, 'Bm71': 1, 'Bm72': 1, 'Bm73': 1, 'Bm74': 1, 'CM5': 0, 'CM50': 0, 'CM51': 0, 'CM52': 0, 'CM7': 0, 'CM70': 0, 'CM71': 0, 'CM72': 0, 'CM73': 0, 'CM74': 0, 'Cm5': 1, 'Cm50': 1, 'Cm51': 1, 'Cm52': 1, 'Cm7': 1, 'Cm70': 1, 'Cm71': 1, 'Cm72': 1, 'Cm73': 1, 'Cm74': 1, 'DM5': 0, 'DM50': 0, 'DM51': 0, 'DM52': 0, 'DM7': 0, 'DM70': 0, 'DM71': 0, 'DM72': 0, 'DM73': 0, 'DM74': 0, 'Dm5': 1, 'Dm50': 1, 'Dm51': 1, 'Dm52': 1, 'Dm7': 1, 'Dm70': 1, 'Dm71': 1, 'Dm72': 1, 'Dm73': 1, 'Dm74': 1, 'EM5': 0, 'EM50': 0, 'EM51': 0, 'EM52': 0, 'EM7': 0, 'EM70': 0, 'EM71': 0, 'EM72': 0, 'EM73': 0, 'EM74': 0, 'Em5': 1, 'Em50': 1, 'Em51': 1, 'Em52': 1, 'Em7': 1, 'Em70': 1, 'Em71': 1, 'Em72': 1, 'Em73': 1, 'Em74': 1, 'FM5': 0, 'FM50': 0, 'FM51': 0, 'FM52': 0, 'FM7': 0, 'FM70': 0, 'FM71': 0, 'FM72': 0, 'FM73': 0, 'FM74': 0, 'Fm5': 1, 'Fm50': 1, 'Fm51': 1, 'Fm52': 1, 'Fm7': 1, 'Fm70': 1, 'Fm71': 1, 'Fm72': 1, 'Fm73': 1, 'Fm74': 1, 'GM5': 0, 'GM50': 0, 'GM51': 0, 'GM52': 0, 'GM7': 0, 'GM70': 0, 'GM71': 0, 'GM72': 0, 'GM73': 0, 'GM74': 0, 'Gm5': 1, 'Gm50': 1, 'Gm51': 1, 'Gm52': 1, 'Gm7': 1, 'Gm70': 1, 'Gm71': 1, 'Gm72': 1, 'Gm73': 1, 'Gm74': 1, 'aM50': 0, 'aM51': 0, 'aM52': 0, 'am50': 1, 'am51': 1, 'am52': 1, 'bM50': 0, 'bM51': 0, 'bM52': 0, 'bm50': 1, 'bm51': 1, 'bm52': 1, 'dM50': 0, 'dM51': 0, 'dM52': 0, 'dm50': 1, 'dm51': 1, 'dm52': 1, 'eM50': 0, 'eM51': 0, 'eM52': 0, 'em50': 1, 'em51': 1, 'em52': 1, 'gM50': 0, 'gM51': 0, 'gM52': 0, 'gm50': 1, 'gm51': 1, 'gm52': 1} \n",
      " 170\n"
     ]
    }
   ],
   "source": [
    "chords = sorted(create_labels(\"./data/raw/\"))\n",
    "print(chords)\n",
    "chord_num = {'M': 0, 'm': 1}\n",
    "labels = {chord: chord_num[chord[1]] for chord in chords}\n",
    "print(labels, \"\\n\", len(labels))"
   ]
  },
  {
   "cell_type": "markdown",
   "metadata": {},
   "source": [
    "### Check that the data is relatively well-balanced"
   ]
  },
  {
   "cell_type": "code",
   "execution_count": 19,
   "metadata": {},
   "outputs": [
    {
     "name": "stdout",
     "output_type": "stream",
     "text": [
      "85 85\n"
     ]
    }
   ],
   "source": [
    "M = 0\n",
    "m = 0\n",
    "for x in labels:\n",
    "    if x[1] == \"M\":\n",
    "        M += 1\n",
    "    elif x[1] == \"m\":\n",
    "        m += 1\n",
    "\n",
    "print(M, m)"
   ]
  },
  {
   "cell_type": "code",
   "execution_count": 14,
   "metadata": {},
   "outputs": [],
   "source": [
    "df = pd.DataFrame.from_dict(labels, orient='index')\n",
    "df.to_csv('./data/labels.csv')\n",
    "# df"
   ]
  },
  {
   "cell_type": "markdown",
   "metadata": {},
   "source": [
    "Make train/test/val split"
   ]
  },
  {
   "cell_type": "code",
   "execution_count": 15,
   "metadata": {},
   "outputs": [],
   "source": [
    "df['Filename'] = df.index + \".npz\"\n",
    "\n",
    "train_val, test = train_test_split(df, test_size=0.2, random_state=0)\n",
    "train, val = train_test_split(train_val, test_size=0.25, random_state=0)\n",
    "\n",
    "train.to_csv('./data/train_labels.csv', index=False)\n",
    "val.to_csv('./data/val_labels.csv', index=False)\n",
    "test.to_csv('./data/test_labels.csv', index=False)"
   ]
  },
  {
   "cell_type": "markdown",
   "metadata": {},
   "source": [
    "Move data files from main directory to their respective splits\n",
    "\n",
    "*Totally not necessary*"
   ]
  },
  {
   "cell_type": "code",
   "execution_count": 3,
   "metadata": {},
   "outputs": [],
   "source": [
    "def move_files(df, source, dest):\n",
    "    os.makedirs(dest, exist_ok=True)\n",
    "    for _, row in df.iterrows():\n",
    "        filename = row['Filename']\n",
    "        source_path = os.path.join(source, filename)\n",
    "        dest_path = os.path.join(dest, filename)\n",
    "        shutil.move(source_path, dest_path)"
   ]
  },
  {
   "cell_type": "code",
   "execution_count": 16,
   "metadata": {},
   "outputs": [],
   "source": [
    "source = \"./data/\"\n",
    "train_labels = pd.read_csv(source + \"train_labels.csv\")\n",
    "val_labels = pd.read_csv(source + \"val_labels.csv\")\n",
    "test_labels = pd.read_csv(source + \"test_labels.csv\")\n",
    "\n",
    "move_files(train_labels, source, os.path.join(source, \"train\"))\n",
    "move_files(test_labels, source, os.path.join(source, \"test\"))\n",
    "move_files(val_labels, source, os.path.join(source, \"val\"))"
   ]
  },
  {
   "cell_type": "markdown",
   "metadata": {},
   "source": [
    "## Multi-class classification:\n",
    "\n",
    "Create labels based on chord quality and type\n",
    "\n",
    "0: Major\n",
    "\n",
    "1: minor\n",
    "\n",
    "2: Major 7\n",
    "\n",
    "3: minor 7"
   ]
  },
  {
   "cell_type": "code",
   "execution_count": 20,
   "metadata": {},
   "outputs": [
    {
     "name": "stdout",
     "output_type": "stream",
     "text": [
      "['AM5', 'AM50', 'AM51', 'AM52', 'AM7', 'AM70', 'AM71', 'AM72', 'AM73', 'AM74', 'Am5', 'Am50', 'Am51', 'Am52', 'Am7', 'Am70', 'Am71', 'Am72', 'Am73', 'Am74', 'BM5', 'BM50', 'BM51', 'BM52', 'BM7', 'BM70', 'BM71', 'BM72', 'BM73', 'BM74', 'Bm5', 'Bm50', 'Bm51', 'Bm52', 'Bm7', 'Bm70', 'Bm71', 'Bm72', 'Bm73', 'Bm74', 'CM5', 'CM50', 'CM51', 'CM52', 'CM7', 'CM70', 'CM71', 'CM72', 'CM73', 'CM74', 'Cm5', 'Cm50', 'Cm51', 'Cm52', 'Cm7', 'Cm70', 'Cm71', 'Cm72', 'Cm73', 'Cm74', 'DM5', 'DM50', 'DM51', 'DM52', 'DM7', 'DM70', 'DM71', 'DM72', 'DM73', 'DM74', 'Dm5', 'Dm50', 'Dm51', 'Dm52', 'Dm7', 'Dm70', 'Dm71', 'Dm72', 'Dm73', 'Dm74', 'EM5', 'EM50', 'EM51', 'EM52', 'EM7', 'EM70', 'EM71', 'EM72', 'EM73', 'EM74', 'Em5', 'Em50', 'Em51', 'Em52', 'Em7', 'Em70', 'Em71', 'Em72', 'Em73', 'Em74', 'FM5', 'FM50', 'FM51', 'FM52', 'FM7', 'FM70', 'FM71', 'FM72', 'FM73', 'FM74', 'Fm5', 'Fm50', 'Fm51', 'Fm52', 'Fm7', 'Fm70', 'Fm71', 'Fm72', 'Fm73', 'Fm74', 'GM5', 'GM50', 'GM51', 'GM52', 'GM7', 'GM70', 'GM71', 'GM72', 'GM73', 'GM74', 'Gm5', 'Gm50', 'Gm51', 'Gm52', 'Gm7', 'Gm70', 'Gm71', 'Gm72', 'Gm73', 'Gm74', 'aM50', 'aM51', 'aM52', 'am50', 'am51', 'am52', 'bM50', 'bM51', 'bM52', 'bm50', 'bm51', 'bm52', 'dM50', 'dM51', 'dM52', 'dm50', 'dm51', 'dm52', 'eM50', 'eM51', 'eM52', 'em50', 'em51', 'em52', 'gM50', 'gM51', 'gM52', 'gm50', 'gm51', 'gm52']\n",
      "{'AM5': 0, 'AM50': 0, 'AM51': 0, 'AM52': 0, 'AM7': 2, 'AM70': 2, 'AM71': 2, 'AM72': 2, 'AM73': 2, 'AM74': 2, 'Am5': 1, 'Am50': 1, 'Am51': 1, 'Am52': 1, 'Am7': 3, 'Am70': 3, 'Am71': 3, 'Am72': 3, 'Am73': 3, 'Am74': 3, 'BM5': 0, 'BM50': 0, 'BM51': 0, 'BM52': 0, 'BM7': 2, 'BM70': 2, 'BM71': 2, 'BM72': 2, 'BM73': 2, 'BM74': 2, 'Bm5': 1, 'Bm50': 1, 'Bm51': 1, 'Bm52': 1, 'Bm7': 3, 'Bm70': 3, 'Bm71': 3, 'Bm72': 3, 'Bm73': 3, 'Bm74': 3, 'CM5': 0, 'CM50': 0, 'CM51': 0, 'CM52': 0, 'CM7': 2, 'CM70': 2, 'CM71': 2, 'CM72': 2, 'CM73': 2, 'CM74': 2, 'Cm5': 1, 'Cm50': 1, 'Cm51': 1, 'Cm52': 1, 'Cm7': 3, 'Cm70': 3, 'Cm71': 3, 'Cm72': 3, 'Cm73': 3, 'Cm74': 3, 'DM5': 0, 'DM50': 0, 'DM51': 0, 'DM52': 0, 'DM7': 2, 'DM70': 2, 'DM71': 2, 'DM72': 2, 'DM73': 2, 'DM74': 2, 'Dm5': 1, 'Dm50': 1, 'Dm51': 1, 'Dm52': 1, 'Dm7': 3, 'Dm70': 3, 'Dm71': 3, 'Dm72': 3, 'Dm73': 3, 'Dm74': 3, 'EM5': 0, 'EM50': 0, 'EM51': 0, 'EM52': 0, 'EM7': 2, 'EM70': 2, 'EM71': 2, 'EM72': 2, 'EM73': 2, 'EM74': 2, 'Em5': 1, 'Em50': 1, 'Em51': 1, 'Em52': 1, 'Em7': 3, 'Em70': 3, 'Em71': 3, 'Em72': 3, 'Em73': 3, 'Em74': 3, 'FM5': 0, 'FM50': 0, 'FM51': 0, 'FM52': 0, 'FM7': 2, 'FM70': 2, 'FM71': 2, 'FM72': 2, 'FM73': 2, 'FM74': 2, 'Fm5': 1, 'Fm50': 1, 'Fm51': 1, 'Fm52': 1, 'Fm7': 3, 'Fm70': 3, 'Fm71': 3, 'Fm72': 3, 'Fm73': 3, 'Fm74': 3, 'GM5': 0, 'GM50': 0, 'GM51': 0, 'GM52': 0, 'GM7': 2, 'GM70': 2, 'GM71': 2, 'GM72': 2, 'GM73': 2, 'GM74': 2, 'Gm5': 1, 'Gm50': 1, 'Gm51': 1, 'Gm52': 1, 'Gm7': 3, 'Gm70': 3, 'Gm71': 3, 'Gm72': 3, 'Gm73': 3, 'Gm74': 3, 'aM50': 0, 'aM51': 0, 'aM52': 0, 'am50': 1, 'am51': 1, 'am52': 1, 'bM50': 0, 'bM51': 0, 'bM52': 0, 'bm50': 1, 'bm51': 1, 'bm52': 1, 'dM50': 0, 'dM51': 0, 'dM52': 0, 'dm50': 1, 'dm51': 1, 'dm52': 1, 'eM50': 0, 'eM51': 0, 'eM52': 0, 'em50': 1, 'em51': 1, 'em52': 1, 'gM50': 0, 'gM51': 0, 'gM52': 0, 'gm50': 1, 'gm51': 1, 'gm52': 1}\n"
     ]
    }
   ],
   "source": [
    "chords = sorted(create_labels(\"./data/raw/\"))\n",
    "print(chords)\n",
    "chord_num = {'M5': 0, 'm5': 1, 'M7': 2, 'm7': 3}\n",
    "labels = {chord: chord_num[chord[1:3]] for chord in chords}\n",
    "print(labels)"
   ]
  },
  {
   "cell_type": "code",
   "execution_count": 21,
   "metadata": {},
   "outputs": [
    {
     "name": "stdout",
     "output_type": "stream",
     "text": [
      "M5 43, m5 43, M7 42, m7 42\n"
     ]
    }
   ],
   "source": [
    "M5 = m5 = M7 = m7 = 0\n",
    "\n",
    "for x in labels:\n",
    "    chord_type = x[1:3]\n",
    "    if chord_type == \"M5\":\n",
    "        M5 += 1\n",
    "    elif chord_type == \"m5\":\n",
    "        m5 += 1\n",
    "    elif chord_type == \"M7\":\n",
    "        M7 += 1\n",
    "    elif chord_type == \"m7\":\n",
    "        m7 += 1\n",
    "\n",
    "\n",
    "print(f\"M5 {M5}, m5 {m5}, M7 {M7}, m7 {m7}\")"
   ]
  },
  {
   "cell_type": "code",
   "execution_count": 7,
   "metadata": {},
   "outputs": [
    {
     "data": {
      "text/html": [
       "<div>\n",
       "<style scoped>\n",
       "    .dataframe tbody tr th:only-of-type {\n",
       "        vertical-align: middle;\n",
       "    }\n",
       "\n",
       "    .dataframe tbody tr th {\n",
       "        vertical-align: top;\n",
       "    }\n",
       "\n",
       "    .dataframe thead th {\n",
       "        text-align: right;\n",
       "    }\n",
       "</style>\n",
       "<table border=\"1\" class=\"dataframe\">\n",
       "  <thead>\n",
       "    <tr style=\"text-align: right;\">\n",
       "      <th></th>\n",
       "      <th>0</th>\n",
       "    </tr>\n",
       "  </thead>\n",
       "  <tbody>\n",
       "    <tr>\n",
       "      <th>AM5</th>\n",
       "      <td>0</td>\n",
       "    </tr>\n",
       "    <tr>\n",
       "      <th>AM50</th>\n",
       "      <td>0</td>\n",
       "    </tr>\n",
       "    <tr>\n",
       "      <th>AM51</th>\n",
       "      <td>0</td>\n",
       "    </tr>\n",
       "    <tr>\n",
       "      <th>AM52</th>\n",
       "      <td>0</td>\n",
       "    </tr>\n",
       "    <tr>\n",
       "      <th>AM7</th>\n",
       "      <td>2</td>\n",
       "    </tr>\n",
       "    <tr>\n",
       "      <th>...</th>\n",
       "      <td>...</td>\n",
       "    </tr>\n",
       "    <tr>\n",
       "      <th>gM51</th>\n",
       "      <td>0</td>\n",
       "    </tr>\n",
       "    <tr>\n",
       "      <th>gM52</th>\n",
       "      <td>0</td>\n",
       "    </tr>\n",
       "    <tr>\n",
       "      <th>gm50</th>\n",
       "      <td>1</td>\n",
       "    </tr>\n",
       "    <tr>\n",
       "      <th>gm51</th>\n",
       "      <td>1</td>\n",
       "    </tr>\n",
       "    <tr>\n",
       "      <th>gm52</th>\n",
       "      <td>1</td>\n",
       "    </tr>\n",
       "  </tbody>\n",
       "</table>\n",
       "<p>170 rows × 1 columns</p>\n",
       "</div>"
      ],
      "text/plain": [
       "      0\n",
       "AM5   0\n",
       "AM50  0\n",
       "AM51  0\n",
       "AM52  0\n",
       "AM7   2\n",
       "...  ..\n",
       "gM51  0\n",
       "gM52  0\n",
       "gm50  1\n",
       "gm51  1\n",
       "gm52  1\n",
       "\n",
       "[170 rows x 1 columns]"
      ]
     },
     "execution_count": 7,
     "metadata": {},
     "output_type": "execute_result"
    }
   ],
   "source": [
    "df = pd.DataFrame.from_dict(labels, orient='index')\n",
    "df.to_csv('./data/multi-labels.csv')\n",
    "df"
   ]
  },
  {
   "cell_type": "markdown",
   "metadata": {},
   "source": [
    "Make train/test/val split"
   ]
  },
  {
   "cell_type": "code",
   "execution_count": 8,
   "metadata": {},
   "outputs": [],
   "source": [
    "df['Filename'] = df.index + \".npz\"\n",
    "\n",
    "train_val, test = train_test_split(df, test_size=0.2, random_state=0)\n",
    "train, val = train_test_split(train_val, test_size=0.25, random_state=0)\n",
    "\n",
    "train.to_csv('./data/train_multi.csv', index=False)\n",
    "val.to_csv('./data/val_multi.csv', index=False)\n",
    "test.to_csv('./data/test_multi.csv', index=False)"
   ]
  },
  {
   "cell_type": "markdown",
   "metadata": {},
   "source": [
    "*Totally not necessary to do this*"
   ]
  },
  {
   "cell_type": "code",
   "execution_count": 9,
   "metadata": {},
   "outputs": [],
   "source": [
    "source = \"./data/\"\n",
    "train_labels = pd.read_csv(source + \"train_multi.csv\")\n",
    "val_labels = pd.read_csv(source + \"val_multi.csv\")\n",
    "test_labels = pd.read_csv(source + \"test_multi.csv\")\n",
    "\n",
    "move_files(train_labels, source, os.path.join(source, \"multitrain\"))\n",
    "move_files(test_labels, source, os.path.join(source, \"multitest\"))\n",
    "move_files(val_labels, source, os.path.join(source, \"multival\"))"
   ]
  }
 ],
 "metadata": {
  "kernelspec": {
   "display_name": "Python 3",
   "language": "python",
   "name": "python3"
  },
  "language_info": {
   "codemirror_mode": {
    "name": "ipython",
    "version": 3
   },
   "file_extension": ".py",
   "mimetype": "text/x-python",
   "name": "python",
   "nbconvert_exporter": "python",
   "pygments_lexer": "ipython3",
   "version": "3.10.12"
  }
 },
 "nbformat": 4,
 "nbformat_minor": 2
}
